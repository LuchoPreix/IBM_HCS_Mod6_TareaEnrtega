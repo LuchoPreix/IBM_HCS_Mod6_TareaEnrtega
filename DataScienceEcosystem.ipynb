{
  "metadata": {
    "kernelspec": {
      "name": "python",
      "display_name": "Python (Pyodide)",
      "language": "python"
    },
    "language_info": {
      "codemirror_mode": {
        "name": "python",
        "version": 3
      },
      "file_extension": ".py",
      "mimetype": "text/x-python",
      "name": "python",
      "nbconvert_exporter": "python",
      "pygments_lexer": "ipython3",
      "version": "3.8"
    }
  },
  "nbformat_minor": 5,
  "nbformat": 4,
  "cells": [
    {
      "id": "9197b1d5-8fb7-4f60-bdb3-0667b350faa1",
      "cell_type": "markdown",
      "source": "# Data Science Tools and Ecosystem",
      "metadata": {}
    },
    {
      "id": "e328f4dc-9f26-4396-8e8a-a47cd8024109",
      "cell_type": "markdown",
      "source": "## En este cuaderno, se resumen las herramientas y ecosistemas de ciencia de datos.",
      "metadata": {}
    },
    {
      "id": "5e5698af-d19e-4e37-83d1-fc5d965a12da",
      "cell_type": "markdown",
      "source": "Objetivos:",
      "metadata": {}
    },
    {
      "id": "50352093-0c91-48e7-b6a5-aca6ea1cebb4",
      "cell_type": "markdown",
      "source": "* Listar lenguajes populares para Ciencia de Datos\n* Describa las características relevantes de las herramientas de código abierto.\n* Identifique a los usuarios y las ventajas del lenguaje R.\n* Defina los elementos SQL y enumere sus ventajas.\n* Revise lenguajes como Java, Scala, C++, JavaScript y Julia.",
      "metadata": {}
    },
    {
      "id": "6b569673-a747-4f52-b6f6-a2734477b36a",
      "cell_type": "markdown",
      "source": "Algunos de los lenguajes populares que utilizan los científicos de datos son:",
      "metadata": {}
    },
    {
      "id": "b7090d6f-e9ca-4e8a-b38e-3f9456e25d2f",
      "cell_type": "markdown",
      "source": "<ol>\n<li>Python</li>\n<li>Julia</li>\n<li>R</li>\n</ol>",
      "metadata": {}
    },
    {
      "id": "4a654b05-9f66-4a63-a9d1-f89158b9a580",
      "cell_type": "markdown",
      "source": "Algunas de las bibliotecas comúnmente utilizadas por los científicos de datos incluyen:",
      "metadata": {}
    },
    {
      "id": "d9d93bb3-bdb9-42c4-8b4b-be0877e5fb79",
      "cell_type": "markdown",
      "source": "<ol>\n<li>Numpy</li>\n<li>Pandas</li>\n<li>Scikit-learn</li>\n</ol>",
      "metadata": {}
    },
    {
      "id": "028c60f6-3b6e-46a0-9062-feb0c1cc87b6",
      "cell_type": "markdown",
      "source": "| Herramientas de Ciencia de Datos |\n|:--------:|\n|  JupyterLab  | \n|  Rstudio   | \n|  Apache Zeppelin   |",
      "metadata": {}
    },
    {
      "id": "49420408-3ca4-4220-838f-20abc13c0077",
      "cell_type": "markdown",
      "source": "### A continuación, se presentan algunos ejemplos de evaluación de expresiones aritméticas en Python",
      "metadata": {}
    },
    {
      "id": "6a7c597a-1f32-4cf6-90fc-266fc122086b",
      "cell_type": "code",
      "source": "# Esta es una expresión aritmética simple para multiplicar y luego sumar enteros ",
      "metadata": {
        "trusted": true
      },
      "outputs": [],
      "execution_count": 10
    },
    {
      "id": "99c44c45-11ab-4d2d-8747-3270c3fbda91",
      "cell_type": "code",
      "source": "(3*4)+5",
      "metadata": {
        "trusted": true
      },
      "outputs": [
        {
          "execution_count": 22,
          "output_type": "execute_result",
          "data": {
            "text/plain": "17"
          },
          "metadata": {}
        }
      ],
      "execution_count": 22
    },
    {
      "id": "a6c041d8-e119-4a29-8051-5004f2238af7",
      "cell_type": "code",
      "source": "# Esto convertirá 200 minutos a horas dividiendo por 60 ",
      "metadata": {
        "trusted": true
      },
      "outputs": [],
      "execution_count": 11
    },
    {
      "id": "a4f04616-319e-4922-8846-a53bfd2645f3",
      "cell_type": "code",
      "source": "200 / 60 ",
      "metadata": {
        "trusted": true
      },
      "outputs": [
        {
          "execution_count": 12,
          "output_type": "execute_result",
          "data": {
            "text/plain": "3.3333333333333335"
          },
          "metadata": {}
        }
      ],
      "execution_count": 12
    },
    {
      "id": "46cb9a80-4e17-4763-95db-a81546b362c2",
      "cell_type": "markdown",
      "source": "## Autor\nLuciano Germán García",
      "metadata": {}
    }
  ]
}